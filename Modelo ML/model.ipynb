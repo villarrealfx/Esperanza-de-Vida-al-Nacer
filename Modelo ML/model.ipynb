{
 "cells": [
  {
   "cell_type": "markdown",
   "metadata": {},
   "source": [
    "# Modelo machine learning. "
   ]
  },
  {
   "cell_type": "code",
   "execution_count": 131,
   "metadata": {},
   "outputs": [],
   "source": [
    "import numpy as np\n",
    "import pandas as pd"
   ]
  },
  {
   "cell_type": "code",
   "execution_count": 183,
   "metadata": {},
   "outputs": [
    {
     "data": {
      "text/html": [
       "<div>\n",
       "<style scoped>\n",
       "    .dataframe tbody tr th:only-of-type {\n",
       "        vertical-align: middle;\n",
       "    }\n",
       "\n",
       "    .dataframe tbody tr th {\n",
       "        vertical-align: top;\n",
       "    }\n",
       "\n",
       "    .dataframe thead th {\n",
       "        text-align: right;\n",
       "    }\n",
       "</style>\n",
       "<table border=\"1\" class=\"dataframe\">\n",
       "  <thead>\n",
       "    <tr style=\"text-align: right;\">\n",
       "      <th></th>\n",
       "      <th>year</th>\n",
       "      <th>country</th>\n",
       "      <th>Life expectancy at birth, total (years)</th>\n",
       "      <th>Population growth (annual %)</th>\n",
       "      <th>School enrollment, tertiary (% gross)</th>\n",
       "      <th>Internet Users(%)</th>\n",
       "      <th>GDP per capita (current US$)</th>\n",
       "      <th>Inflation, consumer prices (annual %)</th>\n",
       "    </tr>\n",
       "  </thead>\n",
       "  <tbody>\n",
       "    <tr>\n",
       "      <th>0</th>\n",
       "      <td>2018</td>\n",
       "      <td>EGY</td>\n",
       "      <td>71.367</td>\n",
       "      <td>1.898931</td>\n",
       "      <td>38.904949</td>\n",
       "      <td>46.924335</td>\n",
       "      <td>2531.200079</td>\n",
       "      <td>14.401466</td>\n",
       "    </tr>\n",
       "    <tr>\n",
       "      <th>1</th>\n",
       "      <td>2017</td>\n",
       "      <td>EGY</td>\n",
       "      <td>71.302</td>\n",
       "      <td>1.989768</td>\n",
       "      <td>35.164520</td>\n",
       "      <td>44.950203</td>\n",
       "      <td>2439.967284</td>\n",
       "      <td>29.506608</td>\n",
       "    </tr>\n",
       "    <tr>\n",
       "      <th>2</th>\n",
       "      <td>2016</td>\n",
       "      <td>EGY</td>\n",
       "      <td>70.844</td>\n",
       "      <td>2.086303</td>\n",
       "      <td>33.858910</td>\n",
       "      <td>41.248066</td>\n",
       "      <td>3331.612461</td>\n",
       "      <td>13.813606</td>\n",
       "    </tr>\n",
       "    <tr>\n",
       "      <th>3</th>\n",
       "      <td>2015</td>\n",
       "      <td>EGY</td>\n",
       "      <td>70.483</td>\n",
       "      <td>2.205260</td>\n",
       "      <td>35.028130</td>\n",
       "      <td>37.819382</td>\n",
       "      <td>3370.382447</td>\n",
       "      <td>10.370490</td>\n",
       "    </tr>\n",
       "    <tr>\n",
       "      <th>4</th>\n",
       "      <td>2014</td>\n",
       "      <td>EGY</td>\n",
       "      <td>70.415</td>\n",
       "      <td>2.343793</td>\n",
       "      <td>31.068110</td>\n",
       "      <td>33.894604</td>\n",
       "      <td>3196.861381</td>\n",
       "      <td>10.070215</td>\n",
       "    </tr>\n",
       "    <tr>\n",
       "      <th>...</th>\n",
       "      <td>...</td>\n",
       "      <td>...</td>\n",
       "      <td>...</td>\n",
       "      <td>...</td>\n",
       "      <td>...</td>\n",
       "      <td>...</td>\n",
       "      <td>...</td>\n",
       "      <td>...</td>\n",
       "    </tr>\n",
       "    <tr>\n",
       "      <th>235</th>\n",
       "      <td>2016</td>\n",
       "      <td>CHN</td>\n",
       "      <td>77.218</td>\n",
       "      <td>0.573051</td>\n",
       "      <td>48.019020</td>\n",
       "      <td>53.200001</td>\n",
       "      <td>8094.390375</td>\n",
       "      <td>2.000002</td>\n",
       "    </tr>\n",
       "    <tr>\n",
       "      <th>236</th>\n",
       "      <td>2015</td>\n",
       "      <td>CHN</td>\n",
       "      <td>76.977</td>\n",
       "      <td>0.581456</td>\n",
       "      <td>46.040428</td>\n",
       "      <td>50.299999</td>\n",
       "      <td>8016.446016</td>\n",
       "      <td>1.437024</td>\n",
       "    </tr>\n",
       "    <tr>\n",
       "      <th>237</th>\n",
       "      <td>2014</td>\n",
       "      <td>CHN</td>\n",
       "      <td>76.717</td>\n",
       "      <td>0.630326</td>\n",
       "      <td>42.430729</td>\n",
       "      <td>47.900002</td>\n",
       "      <td>7636.074223</td>\n",
       "      <td>1.921642</td>\n",
       "    </tr>\n",
       "    <tr>\n",
       "      <th>238</th>\n",
       "      <td>2013</td>\n",
       "      <td>CHN</td>\n",
       "      <td>76.452</td>\n",
       "      <td>0.666073</td>\n",
       "      <td>32.433670</td>\n",
       "      <td>45.799999</td>\n",
       "      <td>7020.385682</td>\n",
       "      <td>2.621050</td>\n",
       "    </tr>\n",
       "    <tr>\n",
       "      <th>239</th>\n",
       "      <td>2012</td>\n",
       "      <td>CHN</td>\n",
       "      <td>76.192</td>\n",
       "      <td>0.678345</td>\n",
       "      <td>28.725670</td>\n",
       "      <td>42.300117</td>\n",
       "      <td>6300.582352</td>\n",
       "      <td>2.619524</td>\n",
       "    </tr>\n",
       "  </tbody>\n",
       "</table>\n",
       "<p>240 rows × 8 columns</p>\n",
       "</div>"
      ],
      "text/plain": [
       "     year country  Life expectancy at birth, total (years)  \\\n",
       "0    2018     EGY                                   71.367   \n",
       "1    2017     EGY                                   71.302   \n",
       "2    2016     EGY                                   70.844   \n",
       "3    2015     EGY                                   70.483   \n",
       "4    2014     EGY                                   70.415   \n",
       "..    ...     ...                                      ...   \n",
       "235  2016     CHN                                   77.218   \n",
       "236  2015     CHN                                   76.977   \n",
       "237  2014     CHN                                   76.717   \n",
       "238  2013     CHN                                   76.452   \n",
       "239  2012     CHN                                   76.192   \n",
       "\n",
       "     Population growth (annual %)  School enrollment, tertiary (% gross)  \\\n",
       "0                        1.898931                              38.904949   \n",
       "1                        1.989768                              35.164520   \n",
       "2                        2.086303                              33.858910   \n",
       "3                        2.205260                              35.028130   \n",
       "4                        2.343793                              31.068110   \n",
       "..                            ...                                    ...   \n",
       "235                      0.573051                              48.019020   \n",
       "236                      0.581456                              46.040428   \n",
       "237                      0.630326                              42.430729   \n",
       "238                      0.666073                              32.433670   \n",
       "239                      0.678345                              28.725670   \n",
       "\n",
       "     Internet Users(%)  GDP per capita (current US$)  \\\n",
       "0            46.924335                   2531.200079   \n",
       "1            44.950203                   2439.967284   \n",
       "2            41.248066                   3331.612461   \n",
       "3            37.819382                   3370.382447   \n",
       "4            33.894604                   3196.861381   \n",
       "..                 ...                           ...   \n",
       "235          53.200001                   8094.390375   \n",
       "236          50.299999                   8016.446016   \n",
       "237          47.900002                   7636.074223   \n",
       "238          45.799999                   7020.385682   \n",
       "239          42.300117                   6300.582352   \n",
       "\n",
       "     Inflation, consumer prices (annual %)  \n",
       "0                                14.401466  \n",
       "1                                29.506608  \n",
       "2                                13.813606  \n",
       "3                                10.370490  \n",
       "4                                10.070215  \n",
       "..                                     ...  \n",
       "235                               2.000002  \n",
       "236                               1.437024  \n",
       "237                               1.921642  \n",
       "238                               2.621050  \n",
       "239                               2.619524  \n",
       "\n",
       "[240 rows x 8 columns]"
      ]
     },
     "execution_count": 183,
     "metadata": {},
     "output_type": "execute_result"
    }
   ],
   "source": [
    "data = pd.read_csv('archive\\data4model.csv')\n",
    "data"
   ]
  },
  {
   "cell_type": "markdown",
   "metadata": {},
   "source": [
    "## Incorporacion de la variable objetivo"
   ]
  },
  {
   "cell_type": "code",
   "execution_count": 264,
   "metadata": {},
   "outputs": [],
   "source": [
    "## condiciones logicas\n",
    "\n",
    "a = data['Life expectancy at birth, total (years)'] > 75.0\n",
    "b = data['Population growth (annual %)'] > 1\n",
    "c = data['GDP per capita (current US$)'] >= 6955.594138\n",
    "d = data['Internet Users(%)'] > 60.0\n",
    "e = data['School enrollment, tertiary (% gross)'] >= 45.0\n",
    "f = data['Inflation, consumer prices (annual %)'] < 7.5\n",
    "\n",
    "indices = {'Life expectancy at birth, total (years)':a,\n",
    "         'Population growth (annual %)':b,\n",
    "         'GDP per capita (current US$)': c,\n",
    "         'Internet Users(%)':d,\n",
    "         'School enrollment, tertiary (% gross)':e,\n",
    "         'Inflation, consumer prices (annual %)':f}"
   ]
  },
  {
   "cell_type": "code",
   "execution_count": 265,
   "metadata": {},
   "outputs": [],
   "source": [
    "# Clasificacion\n",
    "i = 0\n",
    "for condicion in indices:\n",
    "    i += 1\n",
    "    data[f'Y{i}'] = data[condicion][indices[condicion]]\n",
    "    \n",
    "#Vectorizacion    \n",
    "vector = data[['Y1','Y2','Y3', 'Y4','Y5','Y6']].fillna(0).applymap(lambda x: 1 if x!=0 else x)\n",
    "\n",
    "#numero de veces que se cumple una condicion  \n",
    "data['cond'] = vector['Y1'] + vector['Y2'] + vector['Y3'] + vector['Y4'] + vector['Y5'] + vector['Y6']\n",
    "\n",
    "data = data.drop(columns=['Y1','Y2','Y3', 'Y4','Y5','Y6'])"
   ]
  },
  {
   "cell_type": "code",
   "execution_count": 266,
   "metadata": {},
   "outputs": [
    {
     "name": "stderr",
     "output_type": "stream",
     "text": [
      "C:\\Users\\ManVi\\AppData\\Local\\Temp\\ipykernel_8116\\3083404818.py:9: SettingWithCopyWarning: \n",
      "A value is trying to be set on a copy of a slice from a DataFrame\n",
      "\n",
      "See the caveats in the documentation: https://pandas.pydata.org/pandas-docs/stable/user_guide/indexing.html#returning-a-view-versus-a-copy\n",
      "  data['Y'][i] = 1\n",
      "C:\\Users\\ManVi\\AppData\\Local\\Temp\\ipykernel_8116\\3083404818.py:7: SettingWithCopyWarning: \n",
      "A value is trying to be set on a copy of a slice from a DataFrame\n",
      "\n",
      "See the caveats in the documentation: https://pandas.pydata.org/pandas-docs/stable/user_guide/indexing.html#returning-a-view-versus-a-copy\n",
      "  data['Y'][i] = 0\n"
     ]
    }
   ],
   "source": [
    "#variable objetivo\n",
    "\n",
    "data['Y'] = np.nan\n",
    "\n",
    "for i in range(len(data)):\n",
    "    if data['cond'][i] >= 4: # Numero minimo de condiciones a cumplir\n",
    "        data['Y'][i] = 0\n",
    "    else:\n",
    "        data['Y'][i] = 1    \n",
    "        \n"
   ]
  },
  {
   "cell_type": "code",
   "execution_count": 196,
   "metadata": {},
   "outputs": [
    {
     "data": {
      "text/html": [
       "<div>\n",
       "<style scoped>\n",
       "    .dataframe tbody tr th:only-of-type {\n",
       "        vertical-align: middle;\n",
       "    }\n",
       "\n",
       "    .dataframe tbody tr th {\n",
       "        vertical-align: top;\n",
       "    }\n",
       "\n",
       "    .dataframe thead th {\n",
       "        text-align: right;\n",
       "    }\n",
       "</style>\n",
       "<table border=\"1\" class=\"dataframe\">\n",
       "  <thead>\n",
       "    <tr style=\"text-align: right;\">\n",
       "      <th></th>\n",
       "      <th>year</th>\n",
       "      <th>country</th>\n",
       "      <th>Life expectancy at birth, total (years)</th>\n",
       "      <th>Population growth (annual %)</th>\n",
       "      <th>School enrollment, tertiary (% gross)</th>\n",
       "      <th>Internet Users(%)</th>\n",
       "      <th>GDP per capita (current US$)</th>\n",
       "      <th>Inflation, consumer prices (annual %)</th>\n",
       "      <th>cond</th>\n",
       "      <th>Y</th>\n",
       "    </tr>\n",
       "  </thead>\n",
       "  <tbody>\n",
       "    <tr>\n",
       "      <th>7</th>\n",
       "      <td>2020</td>\n",
       "      <td>USA</td>\n",
       "      <td>76.980488</td>\n",
       "      <td>0.964348</td>\n",
       "      <td>87.567657</td>\n",
       "      <td>90.900002</td>\n",
       "      <td>63528.634303</td>\n",
       "      <td>1.233584</td>\n",
       "      <td>4.0</td>\n",
       "      <td>0.0</td>\n",
       "    </tr>\n",
       "    <tr>\n",
       "      <th>8</th>\n",
       "      <td>2019</td>\n",
       "      <td>USA</td>\n",
       "      <td>78.787805</td>\n",
       "      <td>0.455381</td>\n",
       "      <td>87.888710</td>\n",
       "      <td>89.430283</td>\n",
       "      <td>65120.394663</td>\n",
       "      <td>1.812210</td>\n",
       "      <td>4.0</td>\n",
       "      <td>0.0</td>\n",
       "    </tr>\n",
       "    <tr>\n",
       "      <th>9</th>\n",
       "      <td>2018</td>\n",
       "      <td>USA</td>\n",
       "      <td>78.639024</td>\n",
       "      <td>0.526435</td>\n",
       "      <td>88.299179</td>\n",
       "      <td>88.498901</td>\n",
       "      <td>62823.309438</td>\n",
       "      <td>2.442583</td>\n",
       "      <td>4.0</td>\n",
       "      <td>0.0</td>\n",
       "    </tr>\n",
       "    <tr>\n",
       "      <th>10</th>\n",
       "      <td>2017</td>\n",
       "      <td>USA</td>\n",
       "      <td>78.539024</td>\n",
       "      <td>0.632644</td>\n",
       "      <td>88.167389</td>\n",
       "      <td>87.274887</td>\n",
       "      <td>59907.754261</td>\n",
       "      <td>2.130110</td>\n",
       "      <td>4.0</td>\n",
       "      <td>0.0</td>\n",
       "    </tr>\n",
       "    <tr>\n",
       "      <th>11</th>\n",
       "      <td>2016</td>\n",
       "      <td>USA</td>\n",
       "      <td>78.539024</td>\n",
       "      <td>0.724676</td>\n",
       "      <td>88.835052</td>\n",
       "      <td>85.544418</td>\n",
       "      <td>57866.744934</td>\n",
       "      <td>1.261583</td>\n",
       "      <td>4.0</td>\n",
       "      <td>0.0</td>\n",
       "    </tr>\n",
       "    <tr>\n",
       "      <th>...</th>\n",
       "      <td>...</td>\n",
       "      <td>...</td>\n",
       "      <td>...</td>\n",
       "      <td>...</td>\n",
       "      <td>...</td>\n",
       "      <td>...</td>\n",
       "      <td>...</td>\n",
       "      <td>...</td>\n",
       "      <td>...</td>\n",
       "      <td>...</td>\n",
       "    </tr>\n",
       "    <tr>\n",
       "      <th>225</th>\n",
       "      <td>2017</td>\n",
       "      <td>RUS</td>\n",
       "      <td>72.451463</td>\n",
       "      <td>0.106871</td>\n",
       "      <td>81.909309</td>\n",
       "      <td>76.008141</td>\n",
       "      <td>10720.332031</td>\n",
       "      <td>3.683329</td>\n",
       "      <td>4.0</td>\n",
       "      <td>0.0</td>\n",
       "    </tr>\n",
       "    <tr>\n",
       "      <th>226</th>\n",
       "      <td>2016</td>\n",
       "      <td>RUS</td>\n",
       "      <td>71.651220</td>\n",
       "      <td>0.170245</td>\n",
       "      <td>80.632622</td>\n",
       "      <td>73.091438</td>\n",
       "      <td>8704.894531</td>\n",
       "      <td>7.042448</td>\n",
       "      <td>4.0</td>\n",
       "      <td>0.0</td>\n",
       "    </tr>\n",
       "    <tr>\n",
       "      <th>229</th>\n",
       "      <td>2013</td>\n",
       "      <td>RUS</td>\n",
       "      <td>70.578780</td>\n",
       "      <td>0.212951</td>\n",
       "      <td>77.850319</td>\n",
       "      <td>67.970001</td>\n",
       "      <td>15974.623047</td>\n",
       "      <td>6.753710</td>\n",
       "      <td>4.0</td>\n",
       "      <td>0.0</td>\n",
       "    </tr>\n",
       "    <tr>\n",
       "      <th>230</th>\n",
       "      <td>2012</td>\n",
       "      <td>RUS</td>\n",
       "      <td>70.072195</td>\n",
       "      <td>0.168305</td>\n",
       "      <td>75.907089</td>\n",
       "      <td>66.000000</td>\n",
       "      <td>15420.858398</td>\n",
       "      <td>5.074743</td>\n",
       "      <td>4.0</td>\n",
       "      <td>0.0</td>\n",
       "    </tr>\n",
       "    <tr>\n",
       "      <th>231</th>\n",
       "      <td>2020</td>\n",
       "      <td>CHN</td>\n",
       "      <td>78.077000</td>\n",
       "      <td>0.238041</td>\n",
       "      <td>58.420101</td>\n",
       "      <td>70.404778</td>\n",
       "      <td>10408.719125</td>\n",
       "      <td>2.419422</td>\n",
       "      <td>4.0</td>\n",
       "      <td>0.0</td>\n",
       "    </tr>\n",
       "  </tbody>\n",
       "</table>\n",
       "<p>149 rows × 10 columns</p>\n",
       "</div>"
      ],
      "text/plain": [
       "     year country  Life expectancy at birth, total (years)  \\\n",
       "7    2020     USA                                76.980488   \n",
       "8    2019     USA                                78.787805   \n",
       "9    2018     USA                                78.639024   \n",
       "10   2017     USA                                78.539024   \n",
       "11   2016     USA                                78.539024   \n",
       "..    ...     ...                                      ...   \n",
       "225  2017     RUS                                72.451463   \n",
       "226  2016     RUS                                71.651220   \n",
       "229  2013     RUS                                70.578780   \n",
       "230  2012     RUS                                70.072195   \n",
       "231  2020     CHN                                78.077000   \n",
       "\n",
       "     Population growth (annual %)  School enrollment, tertiary (% gross)  \\\n",
       "7                        0.964348                              87.567657   \n",
       "8                        0.455381                              87.888710   \n",
       "9                        0.526435                              88.299179   \n",
       "10                       0.632644                              88.167389   \n",
       "11                       0.724676                              88.835052   \n",
       "..                            ...                                    ...   \n",
       "225                      0.106871                              81.909309   \n",
       "226                      0.170245                              80.632622   \n",
       "229                      0.212951                              77.850319   \n",
       "230                      0.168305                              75.907089   \n",
       "231                      0.238041                              58.420101   \n",
       "\n",
       "     Internet Users(%)  GDP per capita (current US$)  \\\n",
       "7            90.900002                  63528.634303   \n",
       "8            89.430283                  65120.394663   \n",
       "9            88.498901                  62823.309438   \n",
       "10           87.274887                  59907.754261   \n",
       "11           85.544418                  57866.744934   \n",
       "..                 ...                           ...   \n",
       "225          76.008141                  10720.332031   \n",
       "226          73.091438                   8704.894531   \n",
       "229          67.970001                  15974.623047   \n",
       "230          66.000000                  15420.858398   \n",
       "231          70.404778                  10408.719125   \n",
       "\n",
       "     Inflation, consumer prices (annual %)  cond    Y  \n",
       "7                                 1.233584   4.0  0.0  \n",
       "8                                 1.812210   4.0  0.0  \n",
       "9                                 2.442583   4.0  0.0  \n",
       "10                                2.130110   4.0  0.0  \n",
       "11                                1.261583   4.0  0.0  \n",
       "..                                     ...   ...  ...  \n",
       "225                               3.683329   4.0  0.0  \n",
       "226                               7.042448   4.0  0.0  \n",
       "229                               6.753710   4.0  0.0  \n",
       "230                               5.074743   4.0  0.0  \n",
       "231                               2.419422   4.0  0.0  \n",
       "\n",
       "[149 rows x 10 columns]"
      ]
     },
     "execution_count": 196,
     "metadata": {},
     "output_type": "execute_result"
    }
   ],
   "source": [
    "data[data['Y'] == 0]"
   ]
  },
  {
   "cell_type": "markdown",
   "metadata": {},
   "source": [
    "### Ya esta el dataset listo para el entrenamiento"
   ]
  },
  {
   "cell_type": "code",
   "execution_count": 213,
   "metadata": {},
   "outputs": [],
   "source": [
    "from sklearn import tree\n",
    "from sklearn.model_selection import train_test_split\n",
    "from sklearn.metrics import accuracy_score\n",
    "from sklearn.metrics import roc_auc_score"
   ]
  },
  {
   "cell_type": "code",
   "execution_count": 197,
   "metadata": {},
   "outputs": [
    {
     "data": {
      "text/plain": [
       "Index(['year', 'country', 'Life expectancy at birth, total (years)',\n",
       "       'Population growth (annual %)', 'School enrollment, tertiary (% gross)',\n",
       "       'Internet Users(%)', 'GDP per capita (current US$)',\n",
       "       'Inflation, consumer prices (annual %)', 'cond', 'Y'],\n",
       "      dtype='object')"
      ]
     },
     "execution_count": 197,
     "metadata": {},
     "output_type": "execute_result"
    }
   ],
   "source": [
    "data.columns"
   ]
  },
  {
   "cell_type": "code",
   "execution_count": 267,
   "metadata": {},
   "outputs": [
    {
     "name": "stdout",
     "output_type": "stream",
     "text": [
      "(240, 6)    (240,)\n"
     ]
    }
   ],
   "source": [
    "X = data[['Life expectancy at birth, total (years)',\n",
    "          'Population growth (annual %)', 'School enrollment, tertiary (% gross)',\n",
    "          'Internet Users(%)', 'GDP per capita (current US$)',\n",
    "          'Inflation, consumer prices (annual %)']]\n",
    "\n",
    "Y = data['Y']\n",
    "\n",
    "X = np.array(X)\n",
    "Y = np.array(Y)\n",
    "\n",
    "print(X.shape,'  ',Y.shape)"
   ]
  },
  {
   "cell_type": "code",
   "execution_count": 268,
   "metadata": {},
   "outputs": [
    {
     "name": "stdout",
     "output_type": "stream",
     "text": [
      "(168, 6) (72, 6) (168,) (72,)\n"
     ]
    }
   ],
   "source": [
    "X_train, X_test, y_train, y_test = train_test_split(X, Y, test_size=0.30, random_state=42)\n",
    "\n",
    "print(X_train.shape, X_test.shape, y_train.shape,y_test.shape)"
   ]
  },
  {
   "cell_type": "code",
   "execution_count": 274,
   "metadata": {},
   "outputs": [
    {
     "data": {
      "text/html": [
       "<style>#sk-container-id-11 {color: black;background-color: white;}#sk-container-id-11 pre{padding: 0;}#sk-container-id-11 div.sk-toggleable {background-color: white;}#sk-container-id-11 label.sk-toggleable__label {cursor: pointer;display: block;width: 100%;margin-bottom: 0;padding: 0.3em;box-sizing: border-box;text-align: center;}#sk-container-id-11 label.sk-toggleable__label-arrow:before {content: \"▸\";float: left;margin-right: 0.25em;color: #696969;}#sk-container-id-11 label.sk-toggleable__label-arrow:hover:before {color: black;}#sk-container-id-11 div.sk-estimator:hover label.sk-toggleable__label-arrow:before {color: black;}#sk-container-id-11 div.sk-toggleable__content {max-height: 0;max-width: 0;overflow: hidden;text-align: left;background-color: #f0f8ff;}#sk-container-id-11 div.sk-toggleable__content pre {margin: 0.2em;color: black;border-radius: 0.25em;background-color: #f0f8ff;}#sk-container-id-11 input.sk-toggleable__control:checked~div.sk-toggleable__content {max-height: 200px;max-width: 100%;overflow: auto;}#sk-container-id-11 input.sk-toggleable__control:checked~label.sk-toggleable__label-arrow:before {content: \"▾\";}#sk-container-id-11 div.sk-estimator input.sk-toggleable__control:checked~label.sk-toggleable__label {background-color: #d4ebff;}#sk-container-id-11 div.sk-label input.sk-toggleable__control:checked~label.sk-toggleable__label {background-color: #d4ebff;}#sk-container-id-11 input.sk-hidden--visually {border: 0;clip: rect(1px 1px 1px 1px);clip: rect(1px, 1px, 1px, 1px);height: 1px;margin: -1px;overflow: hidden;padding: 0;position: absolute;width: 1px;}#sk-container-id-11 div.sk-estimator {font-family: monospace;background-color: #f0f8ff;border: 1px dotted black;border-radius: 0.25em;box-sizing: border-box;margin-bottom: 0.5em;}#sk-container-id-11 div.sk-estimator:hover {background-color: #d4ebff;}#sk-container-id-11 div.sk-parallel-item::after {content: \"\";width: 100%;border-bottom: 1px solid gray;flex-grow: 1;}#sk-container-id-11 div.sk-label:hover label.sk-toggleable__label {background-color: #d4ebff;}#sk-container-id-11 div.sk-serial::before {content: \"\";position: absolute;border-left: 1px solid gray;box-sizing: border-box;top: 0;bottom: 0;left: 50%;z-index: 0;}#sk-container-id-11 div.sk-serial {display: flex;flex-direction: column;align-items: center;background-color: white;padding-right: 0.2em;padding-left: 0.2em;position: relative;}#sk-container-id-11 div.sk-item {position: relative;z-index: 1;}#sk-container-id-11 div.sk-parallel {display: flex;align-items: stretch;justify-content: center;background-color: white;position: relative;}#sk-container-id-11 div.sk-item::before, #sk-container-id-11 div.sk-parallel-item::before {content: \"\";position: absolute;border-left: 1px solid gray;box-sizing: border-box;top: 0;bottom: 0;left: 50%;z-index: -1;}#sk-container-id-11 div.sk-parallel-item {display: flex;flex-direction: column;z-index: 1;position: relative;background-color: white;}#sk-container-id-11 div.sk-parallel-item:first-child::after {align-self: flex-end;width: 50%;}#sk-container-id-11 div.sk-parallel-item:last-child::after {align-self: flex-start;width: 50%;}#sk-container-id-11 div.sk-parallel-item:only-child::after {width: 0;}#sk-container-id-11 div.sk-dashed-wrapped {border: 1px dashed gray;margin: 0 0.4em 0.5em 0.4em;box-sizing: border-box;padding-bottom: 0.4em;background-color: white;}#sk-container-id-11 div.sk-label label {font-family: monospace;font-weight: bold;display: inline-block;line-height: 1.2em;}#sk-container-id-11 div.sk-label-container {text-align: center;}#sk-container-id-11 div.sk-container {/* jupyter's `normalize.less` sets `[hidden] { display: none; }` but bootstrap.min.css set `[hidden] { display: none !important; }` so we also need the `!important` here to be able to override the default hidden behavior on the sphinx rendered scikit-learn.org. See: https://github.com/scikit-learn/scikit-learn/issues/21755 */display: inline-block !important;position: relative;}#sk-container-id-11 div.sk-text-repr-fallback {display: none;}</style><div id=\"sk-container-id-11\" class=\"sk-top-container\"><div class=\"sk-text-repr-fallback\"><pre>DecisionTreeClassifier(max_depth=3)</pre><b>In a Jupyter environment, please rerun this cell to show the HTML representation or trust the notebook. <br />On GitHub, the HTML representation is unable to render, please try loading this page with nbviewer.org.</b></div><div class=\"sk-container\" hidden><div class=\"sk-item\"><div class=\"sk-estimator sk-toggleable\"><input class=\"sk-toggleable__control sk-hidden--visually\" id=\"sk-estimator-id-11\" type=\"checkbox\" checked><label for=\"sk-estimator-id-11\" class=\"sk-toggleable__label sk-toggleable__label-arrow\">DecisionTreeClassifier</label><div class=\"sk-toggleable__content\"><pre>DecisionTreeClassifier(max_depth=3)</pre></div></div></div></div></div>"
      ],
      "text/plain": [
       "DecisionTreeClassifier(max_depth=3)"
      ]
     },
     "execution_count": 274,
     "metadata": {},
     "output_type": "execute_result"
    }
   ],
   "source": [
    "arbol = tree.DecisionTreeClassifier(max_depth=3)\n",
    "arbol = arbol.fit(X_train,y_train)\n",
    "arbol"
   ]
  },
  {
   "cell_type": "markdown",
   "metadata": {},
   "source": [
    "Se evalua la precision del modelo"
   ]
  },
  {
   "cell_type": "code",
   "execution_count": 275,
   "metadata": {},
   "outputs": [
    {
     "data": {
      "text/plain": [
       "0.9305555555555556"
      ]
     },
     "execution_count": 275,
     "metadata": {},
     "output_type": "execute_result"
    }
   ],
   "source": [
    "y_pred = arbol.predict(X_test)\n",
    "accuracy_score(y_test,y_pred)"
   ]
  },
  {
   "cell_type": "code",
   "execution_count": 276,
   "metadata": {},
   "outputs": [
    {
     "data": {
      "text/plain": [
       "0.8958333333333333"
      ]
     },
     "execution_count": 276,
     "metadata": {},
     "output_type": "execute_result"
    }
   ],
   "source": [
    "roc_auc_score(y_test,y_pred)"
   ]
  },
  {
   "cell_type": "code",
   "execution_count": 277,
   "metadata": {},
   "outputs": [
    {
     "data": {
      "text/plain": [
       "array([0.])"
      ]
     },
     "execution_count": 277,
     "metadata": {},
     "output_type": "execute_result"
    }
   ],
   "source": [
    "# Prueba Unitaria\n",
    "\n",
    "predicc = np.array([79,1.0,46.0,60.0,5600.0,3.6])\n",
    "predicc = predicc.reshape(1,-1)\n",
    "arbol.predict(predicc)"
   ]
  }
 ],
 "metadata": {
  "kernelspec": {
   "display_name": "Python 3",
   "language": "python",
   "name": "python3"
  },
  "language_info": {
   "codemirror_mode": {
    "name": "ipython",
    "version": 3
   },
   "file_extension": ".py",
   "mimetype": "text/x-python",
   "name": "python",
   "nbconvert_exporter": "python",
   "pygments_lexer": "ipython3",
   "version": "3.10.11"
  },
  "orig_nbformat": 4
 },
 "nbformat": 4,
 "nbformat_minor": 2
}
